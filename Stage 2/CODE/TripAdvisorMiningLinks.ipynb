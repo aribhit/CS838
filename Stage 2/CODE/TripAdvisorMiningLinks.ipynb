{
 "cells": [
  {
   "cell_type": "code",
   "execution_count": 1,
   "metadata": {
    "collapsed": true
   },
   "outputs": [],
   "source": [
    "import urllib.request\n",
    "from bs4 import BeautifulSoup\n",
    "resp = urllib.request.urlopen(\"https://www.tripadvisor.com/RestaurantSearch-g60763-p1-New_York_City_New_York.html#EATERY_LIST_CONTENTS\")\n",
    "soup = BeautifulSoup(resp, 'html.parser',from_encoding=resp.info().get_param('charset'))\n",
    "tripAdvisor_restaurants = []\n",
    "temp = []\n",
    "flag = True\n",
    "strFinal = \"\"\n",
    "for num in range(30,2000,30):\n",
    "    if flag:\n",
    "        strFinal = \"https://www.tripadvisor.com/RestaurantSearch-g60763-p1-New_York_City_New_York.html#EATERY_LIST_CONTENTS\"\n",
    "        flag = False\n",
    "    else:\n",
    "        s1 = \"https://www.tripadvisor.com/RestaurantSearch-g60763-\"\n",
    "        s2 = \"oa\" + str(num)\n",
    "        s3 = \"-p1-New_York_City_New_York.html#EATERY_LIST_CONTENTS\"\n",
    "        strFinal = s1+s2+s3\n",
    "    resp = urllib.request.urlopen(strFinal)\n",
    "    soup = BeautifulSoup(resp, 'html.parser',from_encoding=resp.info().get_param('charset'))\n",
    "    for link in soup.find_all('a', href=True):\n",
    "            if link['href'].startswith(\"/Restaurant_Review-\") and \"#REVIEWS\" not in link['href']  :\n",
    "                if link[\"href\"] not in temp:\n",
    "                    temp.append(link[\"href\"])\n",
    "    tripAdvisor_restaurants.extend(temp)\n",
    "\n",
    "\n",
    "temp = []\n",
    "flag = True\n",
    "strFinal = \"\"\n",
    "for num in range(30,2000,30):\n",
    "    if flag:\n",
    "        strFinal = \"https://www.tripadvisor.com/RestaurantSearch-g60763-p6-New_York_City_New_York.html#EATERY_LIST_CONTENTS\"\n",
    "        flag = False\n",
    "    else:\n",
    "        s1 = \"https://www.tripadvisor.com/RestaurantSearch-g60763-\"\n",
    "        s2 = \"oa\" + str(num)\n",
    "        s3 = \"-p6-New_York_City_New_York.html#EATERY_LIST_CONTENTS\"\n",
    "        strFinal = s1 + s2 + s3\n",
    "    resp = urllib.request.urlopen(strFinal)\n",
    "    soup = BeautifulSoup(resp, 'html.parser',from_encoding=resp.info().get_param('charset'))\n",
    "    for link in soup.find_all('a', href=True):\n",
    "            if link['href'].startswith(\"/Restaurant_Review-\") and \"#REVIEWS\" not in link['href']  :\n",
    "                if link[\"href\"] not in temp:\n",
    "                    temp.append(link[\"href\"])\n",
    "    tripAdvisor_restaurants.extend(temp)\n",
    "    \n",
    "\n",
    "thefile = open('tripadvisor.txt', 'w+')\n",
    "for item in tripAdvisor_restaurants:\n",
    "  thefile.write(\"%s\\n\" % item)\n",
    "thefile.close()"
   ]
  },
  {
   "cell_type": "code",
   "execution_count": null,
   "metadata": {
    "collapsed": true
   },
   "outputs": [],
   "source": []
  }
 ],
 "metadata": {
  "kernelspec": {
   "display_name": "Python 3",
   "language": "python",
   "name": "python3"
  },
  "language_info": {
   "codemirror_mode": {
    "name": "ipython",
    "version": 3
   },
   "file_extension": ".py",
   "mimetype": "text/x-python",
   "name": "python",
   "nbconvert_exporter": "python",
   "pygments_lexer": "ipython3",
   "version": "3.6.3"
  }
 },
 "nbformat": 4,
 "nbformat_minor": 2
}
