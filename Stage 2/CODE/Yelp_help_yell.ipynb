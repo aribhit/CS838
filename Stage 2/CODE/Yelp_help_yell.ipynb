{
 "cells": [
  {
   "cell_type": "code",
   "execution_count": 1,
   "metadata": {
    "collapsed": true
   },
   "outputs": [],
   "source": [
    "from bs4 import BeautifulSoup\n",
    "import urllib.request\n",
    "import re\n",
    "import pandas as pd"
   ]
  },
  {
   "cell_type": "code",
   "execution_count": null,
   "metadata": {
    "collapsed": true
   },
   "outputs": [],
   "source": [
    "counter = 0\n",
    "dintwork= []\n",
    "Table = []\n",
    "with open(\"yelprestaurants.txt\",'r') as infile:\n",
    "    for line in infile:\n",
    "        print(counter)\n",
    "        counter+=1\n",
    "        link  = line\n",
    "        try :\n",
    "            resp = urllib.request.urlopen(link)\n",
    "            soup = BeautifulSoup(resp, 'html.parser',from_encoding=resp.info().get_param('charset'))\n",
    "            name = soup.find('h1', class_ =\"biz-page-title embossed-text-white\")\n",
    "            if not name :\n",
    "                name = soup.find('h1', class_ =\"biz-page-title embossed-text-white shortenough\")    \n",
    "            name = name.text.strip(\" \\t\\n\")\n",
    "            name = re.sub(\",\",\"\",name)\n",
    "            #Names.append(name)\n",
    "            adrs = soup.find('address')\n",
    "            adrs = adrs.text.strip(\" \\t\\n\")\n",
    "            adrs = re.sub(\",\",\"\",adrs)\n",
    "            #Address.append(adrs)\n",
    "            phone = soup.find('span', class_ =\"biz-phone\")\n",
    "            phone = phone.text.strip(\" \\t\\n\")\n",
    "            phone = re.sub(\",\",\"\",phone)\n",
    "            #Phone.append(phone)\n",
    "            cuisines = soup.find('span', class_ =\"category-str-list\")\n",
    "            cuisines = cuisines.text.strip(\" \\t\\n\")\n",
    "            regex = re.compile(\"\\t|\\n|,\")\n",
    "            regex2 = re.compile(\" {2,}\")\n",
    "            cuisines = re.sub(regex,\"\",cuisines)\n",
    "            cuisines = re.sub(regex2,\";\",cuisines)\n",
    "            #Cuisines.append(cuisines)\n",
    "            table = soup.find('table', {'class': \"table table-simple hours-table\"})\n",
    "            times = {}\n",
    "            for week in ['Mon',\"Tue\",\"Wed\",\"Thu\",\"Fri\",\"Sat\",\"Sun\"] :\n",
    "                th = table.find('th', text=week)\n",
    "                td = th.findNext('td')\n",
    "                td = td.text.strip(\" \\t\\n\")\n",
    "                td = re.sub(\",\",\"\",td)\n",
    "                times[week] = td\n",
    "            #Times.append(times)\n",
    "            tkout = soup.find('div', class_ =\"short-def-list\")\n",
    "            dt = tkout.find_all('dt')\n",
    "            option = \"No\"\n",
    "            for elem in dt :\n",
    "                if elem.text.strip(\"\\t \\n\") == \"Take-out\":\n",
    "                    dd = elem.findNext(\"dd\")\n",
    "                    option = dd.text.strip(\"\\t\\n \")\n",
    "                    break\n",
    "            #Option.append(option)\n",
    "            Table.append([name,adrs,phone,cuisines,times,option])\n",
    "            print(name)\n",
    "        except :\n",
    "            dintwork.append(link) "
   ]
  },
  {
   "cell_type": "code",
   "execution_count": null,
   "metadata": {
    "collapsed": true
   },
   "outputs": [],
   "source": [
    "Table2 = [(x[0],x[1],x[2],x[3],\";\".join(list(x[4].values())),x[5]) for x in Table]\n",
    "df = pd.DataFrame(Table2,columns= [\"Name\",\"Address\",\"Phone\",\"Cuisines\",\"Closing times\",\"Take Out\"])\n",
    "df.to_csv(\"Yelp_table2.csv\",index=False)"
   ]
  },
  {
   "cell_type": "code",
   "execution_count": null,
   "metadata": {
    "collapsed": true
   },
   "outputs": [],
   "source": [
    "with open(\"remaining_again.txt\",'w+') as outfile :\n",
    "    outfile.write(\"\\n\".join(dintwork))"
   ]
  }
 ],
 "metadata": {
  "kernelspec": {
   "display_name": "Python 3",
   "language": "python",
   "name": "python3"
  },
  "language_info": {
   "codemirror_mode": {
    "name": "ipython",
    "version": 3
   },
   "file_extension": ".py",
   "mimetype": "text/x-python",
   "name": "python",
   "nbconvert_exporter": "python",
   "pygments_lexer": "ipython3",
   "version": "3.6.4"
  }
 },
 "nbformat": 4,
 "nbformat_minor": 2
}
