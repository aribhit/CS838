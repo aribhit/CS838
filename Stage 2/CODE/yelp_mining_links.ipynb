{
 "cells": [
  {
   "cell_type": "code",
   "execution_count": 1,
   "metadata": {
    "collapsed": true
   },
   "outputs": [],
   "source": [
    "from bs4 import BeautifulSoup\n",
    "import urllib.request\n",
    "import re"
   ]
  },
  {
   "cell_type": "code",
   "execution_count": 22,
   "metadata": {},
   "outputs": [
    {
     "name": "stdout",
     "output_type": "stream",
     "text": [
      "1012\n"
     ]
    }
   ],
   "source": [
    "Yelp_restaurants = []\n",
    "for num in range(0,1000,10):\n",
    "    str1 = \"https://www.yelp.com/search?find_loc=New+York,+NY&start=\"\n",
    "    str2 = \"&sortby=rating&attrs=RestaurantsPriceRange2.1&ed_attrs=RestaurantsPriceRange2.2,RestaurantsPriceRange2.3,RestaurantsPriceRange2.4\"\n",
    "    resp = urllib.request.urlopen(str1+str(num)+str2)\n",
    "    soup = BeautifulSoup(resp, 'html.parser',from_encoding=resp.info().get_param('charset'))\n",
    "    temp = []\n",
    "    for link in soup.find_all('a', href=True):\n",
    "        if link['href'].startswith(\"/biz\") and \"hrid\" not in link['href']  :\n",
    "            if link[\"href\"] not in temp :\n",
    "                temp.append(link[\"href\"])\n",
    "    Yelp_restaurants.extend(temp)\n",
    "print(len(Yelp_restaurants))\n",
    "    "
   ]
  },
  {
   "cell_type": "code",
   "execution_count": 24,
   "metadata": {},
   "outputs": [
    {
     "name": "stdout",
     "output_type": "stream",
     "text": [
      "0\n",
      "100\n",
      "200\n",
      "300\n",
      "400\n",
      "500\n",
      "600\n",
      "700\n",
      "800\n",
      "900\n",
      "2020\n"
     ]
    }
   ],
   "source": [
    "for num in range(0,1000,10):\n",
    "    str1 = \"https://www.yelp.com/search?find_loc=New+York,+NY&start=\"\n",
    "    str2 = \"&sortby=rating&attrs=RestaurantsPriceRange2.2&ed_attrs=RestaurantsPriceRange2.3,RestaurantsPriceRange2.4,RestaurantsPriceRange2.1\"\n",
    "    resp = urllib.request.urlopen(str1+str(num)+str2)\n",
    "    soup = BeautifulSoup(resp, 'html.parser',from_encoding=resp.info().get_param('charset'))\n",
    "    temp = []\n",
    "    for link in soup.find_all('a', href=True):\n",
    "        if link['href'].startswith(\"/biz\") and \"hrid\" not in link['href']  :\n",
    "            if link[\"href\"] not in temp :\n",
    "                temp.append(link[\"href\"])\n",
    "    Yelp_restaurants.extend(temp)\n",
    "    if num%100 == 0 :\n",
    "        print(num)\n",
    "print(len(Yelp_restaurants))"
   ]
  },
  {
   "cell_type": "code",
   "execution_count": 25,
   "metadata": {},
   "outputs": [
    {
     "name": "stdout",
     "output_type": "stream",
     "text": [
      "0\n",
      "100\n",
      "200\n",
      "300\n",
      "400\n",
      "500\n",
      "600\n",
      "700\n",
      "800\n",
      "900\n",
      "3057\n"
     ]
    }
   ],
   "source": [
    "for num in range(0,1000,10):\n",
    "    str1 = \"https://www.yelp.com/search?find_loc=New+York,+NY&start=\"\n",
    "    str2 = \"&sortby=rating&attrs=RestaurantsPriceRange2.3&ed_attrs=RestaurantsPriceRange2.4,RestaurantsPriceRange2.1,RestaurantsPriceRange2.2\"\n",
    "    resp = urllib.request.urlopen(str1+str(num)+str2)\n",
    "    soup = BeautifulSoup(resp, 'html.parser',from_encoding=resp.info().get_param('charset'))\n",
    "    temp = []\n",
    "    for link in soup.find_all('a', href=True):\n",
    "        if link['href'].startswith(\"/biz\") and \"hrid\" not in link['href']  :\n",
    "            if link[\"href\"] not in temp :\n",
    "                temp.append(link[\"href\"])\n",
    "    Yelp_restaurants.extend(temp)\n",
    "    if num%100 == 0 :\n",
    "        print(num)\n",
    "print(len(Yelp_restaurants))"
   ]
  },
  {
   "cell_type": "code",
   "execution_count": 26,
   "metadata": {},
   "outputs": [
    {
     "name": "stdout",
     "output_type": "stream",
     "text": [
      "0\n",
      "100\n",
      "200\n",
      "300\n",
      "400\n",
      "500\n",
      "600\n",
      "700\n",
      "800\n",
      "900\n",
      "3434\n"
     ]
    }
   ],
   "source": [
    "for num in range(0,1000,10):\n",
    "    str1 = \"https://www.yelp.com/search?find_loc=New+York,+NY&start=\"\n",
    "    str2 = \"&sortby=rating&attrs=RestaurantsPriceRange2.4&ed_attrs=RestaurantsPriceRange2.1,RestaurantsPriceRange2.2,RestaurantsPriceRange2.3\"\n",
    "    resp = urllib.request.urlopen(str1+str(num)+str2)\n",
    "    soup = BeautifulSoup(resp, 'html.parser',from_encoding=resp.info().get_param('charset'))\n",
    "    temp = []\n",
    "    for link in soup.find_all('a', href=True):\n",
    "        if link['href'].startswith(\"/biz\") and \"hrid\" not in link['href']  :\n",
    "            if link[\"href\"] not in temp :\n",
    "                temp.append(link[\"href\"])\n",
    "    Yelp_restaurants.extend(temp)\n",
    "    if num%100 == 0 :\n",
    "        print(num)\n",
    "print(len(Yelp_restaurants))"
   ]
  }
 ],
 "metadata": {
  "kernelspec": {
   "display_name": "Python 3",
   "language": "python",
   "name": "python3"
  },
  "language_info": {
   "codemirror_mode": {
    "name": "ipython",
    "version": 3
   },
   "file_extension": ".py",
   "mimetype": "text/x-python",
   "name": "python",
   "nbconvert_exporter": "python",
   "pygments_lexer": "ipython3",
   "version": "3.6.4"
  }
 },
 "nbformat": 4,
 "nbformat_minor": 2
}
