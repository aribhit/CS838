{
 "cells": [
  {
   "cell_type": "markdown",
   "metadata": {},
   "source": [
    "# Project Stage 3: Entity Matching#\n",
    "\n",
    "The entity we performed our match was on a set of restaurants in New York City. The data for the tables was taken from two different web sources, namely, Tripadvisor and Yelp.\n",
    "\n",
    "We used the py_entitymatching package to help in this process."
   ]
  },
  {
   "cell_type": "code",
   "execution_count": 2,
   "metadata": {},
   "outputs": [],
   "source": [
    "# Import py_entitymatching package\n",
    "import py_entitymatching as em\n",
    "import os\n",
    "import pandas as pd"
   ]
  },
  {
   "cell_type": "markdown",
   "metadata": {},
   "source": [
    "## Reading in Input Tables##\n",
    "\n",
    "We read the CSV files and set 'ID' as the key attribute.\n",
    "\n",
    "Input table A corresponds to data from TripAdvisor, and input table B corresponds to data from Yelp."
   ]
  },
  {
   "cell_type": "code",
   "execution_count": 3,
   "metadata": {},
   "outputs": [],
   "source": [
    "#path_A = 'C:\\\\Users\\\\bharg\\\\Documents\\\\TripAdvisor_Restaurants.csv'\n",
    "#path_B = 'C:\\\\Users\\\\bharg\\\\Documents\\\\Yelp_Restaurants.csv'\n",
    "path_A = 'C:\\\\Users\\\\Aribhit\\\\TripAdvisor_Restaurants.csv'\n",
    "path_B = 'C:\\\\Users\\\\Aribhit\\\\Yelp_Restaurants.csv'"
   ]
  },
  {
   "cell_type": "code",
   "execution_count": 4,
   "metadata": {},
   "outputs": [
    {
     "name": "stderr",
     "output_type": "stream",
     "text": [
      "Metadata file is not present in the given path; proceeding to read the csv file.\n"
     ]
    }
   ],
   "source": [
    "A = em.read_csv_metadata(path_A, key='Id', encoding = 'cp1252')"
   ]
  },
  {
   "cell_type": "code",
   "execution_count": 5,
   "metadata": {},
   "outputs": [
    {
     "name": "stderr",
     "output_type": "stream",
     "text": [
      "Metadata file is not present in the given path; proceeding to read the csv file.\n"
     ]
    }
   ],
   "source": [
    "B = em.read_csv_metadata(path_B, key='Id', encoding = 'cp1252')"
   ]
  },
  {
   "cell_type": "markdown",
   "metadata": {},
   "source": [
    "# Data Pre-processing#\n",
    "\n",
    "Since there was a lot of variance in how *Address* attribute was defined, created a new attribute called *Street* that is extracted from *Address* (by considering the part of the string till the state appears).\n",
    "\n",
    "Also converted every string type attribute to lower case."
   ]
  },
  {
   "cell_type": "code",
   "execution_count": 6,
   "metadata": {},
   "outputs": [],
   "source": [
    "A['Street'] = A.apply(lambda row : row['Address'][0:row['Address'].find('New')],axis=1)\n",
    "A['Name']=A['Name'].str.lower()\n",
    "A['Street']=A['Street'].str.lower()\n",
    "A['Address']=A['Address'].str.lower()"
   ]
  },
  {
   "cell_type": "code",
   "execution_count": 7,
   "metadata": {},
   "outputs": [],
   "source": [
    "def cleaning(row) :\n",
    "    for string in ['New','Jersey','NY','NJ']:\n",
    "        index = row['Address'].find(string)\n",
    "        if index == -1 :\n",
    "            continue\n",
    "        return row['Address'][0:index]\n",
    "    return row['Address']\n",
    "    \n",
    "B['Street'] = B.apply(cleaning,axis =1)\n",
    "B['Name']=B['Name'].str.lower()\n",
    "B['Street']=B['Street'].str.lower()\n",
    "B['Address']=B['Address'].str.lower()"
   ]
  },
  {
   "cell_type": "markdown",
   "metadata": {},
   "source": [
    "Deleting *Phone* attribute in case it might act as an unique ID and game the system"
   ]
  },
  {
   "cell_type": "code",
   "execution_count": 8,
   "metadata": {},
   "outputs": [],
   "source": [
    "del A['Phone']\n",
    "del B['Phone']"
   ]
  },
  {
   "cell_type": "markdown",
   "metadata": {},
   "source": [
    "## Applying the Blocker##\n",
    "\n",
    "We have used the combination of two blockers: \n",
    "One blocks based on *Name* of the restaurant (Jaccard Measure with 3 grams with a constraint 0.3) and *Street* (Jaccard Measure with 3 grams with a constraint 0.3). \n",
    "Next blocker is only on the *Street* attribute(Jaccard Measure with 3 grams with a constraint 0.6).\n",
    "\n",
    "We use these blockers and then combine the results of two different blockers using union for the following reasons.\n",
    "*Street* (from *Address*) only because it can capture some pairs where names are same but differ by a new word. Ex. (alfa ristorante, alfa). The constraint is higher - 0.6\n",
    "*Name* only to capture restaurants that have similar names (constraint is 0.3). But added *Street* based rule on top of that to eliminate chain restaurants with multiple branches at different locations (eg: Shake shacks at Manhattan, Shake Shacks at Brooklyn). The constraint is lower threshold in this case compared to the earlier blocker.\n",
    "\n",
    "First, get all possible features for blocking."
   ]
  },
  {
   "cell_type": "code",
   "execution_count": 9,
   "metadata": {},
   "outputs": [],
   "source": [
    "block_f = em.get_features_for_blocking(A, B, validate_inferred_attr_types=False)"
   ]
  },
  {
   "cell_type": "markdown",
   "metadata": {},
   "source": [
    "First rule-based blocker uses *Name* and *Street* attributes"
   ]
  },
  {
   "cell_type": "code",
   "execution_count": 10,
   "metadata": {},
   "outputs": [
    {
     "data": {
      "text/plain": [
       "'_rule_1'"
      ]
     },
     "execution_count": 10,
     "metadata": {},
     "output_type": "execute_result"
    }
   ],
   "source": [
    "rb = em.RuleBasedBlocker()\n",
    "ab = em.AttrEquivalenceBlocker()\n",
    "rb.add_rule(['Name_Name_jac_qgm_3_qgm_3(ltuple, rtuple) < 0.5'], block_f)\n",
    "rb.add_rule(['Street_Street_jac_qgm_3_qgm_3(ltuple, rtuple) < 0.3'], block_f)"
   ]
  },
  {
   "cell_type": "code",
   "execution_count": 11,
   "metadata": {},
   "outputs": [
    {
     "name": "stderr",
     "output_type": "stream",
     "text": [
      "0% [##############################] 100% | ETA: 00:00:00"
     ]
    },
    {
     "name": "stdout",
     "output_type": "stream",
     "text": [
      "Finding pairs with missing value...\n"
     ]
    },
    {
     "name": "stderr",
     "output_type": "stream",
     "text": [
      "\n",
      "Total time elapsed: 00:00:01\n",
      "0% [##############################] 100% | ETA: 00:00:00\n",
      "Total time elapsed: 00:00:01\n"
     ]
    }
   ],
   "source": [
    "C = rb.block_tables(A, B, l_output_attrs=['Name', 'Street', 'Address','Cuisines','Take Out'], \\\n",
    "                    r_output_attrs=['Name', 'Street', 'Address','Cuisines','Take Out'], show_progress=True)"
   ]
  },
  {
   "cell_type": "markdown",
   "metadata": {},
   "source": [
    "Second rule-based blocker uses only *Street* attribute"
   ]
  },
  {
   "cell_type": "code",
   "execution_count": 12,
   "metadata": {},
   "outputs": [
    {
     "name": "stdout",
     "output_type": "stream",
     "text": [
      "Finding pairs with missing value...\n"
     ]
    }
   ],
   "source": [
    "rb2 = em.RuleBasedBlocker()\n",
    "rb2.add_rule(['Street_Street_jac_qgm_3_qgm_3(ltuple, rtuple) < 0.6'], block_f)\n",
    "E = rb2.block_tables(A, B, l_output_attrs=['Name', 'Street', 'Address','Cuisines','Take Out'], \\\n",
    "                     r_output_attrs=['Name', 'Street', 'Address','Cuisines','Take Out'], n_jobs=-1,show_progress=True)"
   ]
  },
  {
   "cell_type": "markdown",
   "metadata": {},
   "source": [
    "Combining blocker1 and blocker2 results to get candidate set C (which is named F in our code)."
   ]
  },
  {
   "cell_type": "code",
   "execution_count": 13,
   "metadata": {},
   "outputs": [],
   "source": [
    "F = em.combine_blocker_outputs_via_union([C, E])"
   ]
  },
  {
   "cell_type": "markdown",
   "metadata": {},
   "source": [
    "Running debugger to see if F is good. 41/50 outputs of debugger are bad matches.Therefore we are proceeding with the above \n",
    "blocker"
   ]
  },
  {
   "cell_type": "code",
   "execution_count": 14,
   "metadata": {},
   "outputs": [
    {
     "data": {
      "text/html": [
       "<div>\n",
       "<style scoped>\n",
       "    .dataframe tbody tr th:only-of-type {\n",
       "        vertical-align: middle;\n",
       "    }\n",
       "\n",
       "    .dataframe tbody tr th {\n",
       "        vertical-align: top;\n",
       "    }\n",
       "\n",
       "    .dataframe thead th {\n",
       "        text-align: right;\n",
       "    }\n",
       "</style>\n",
       "<table border=\"1\" class=\"dataframe\">\n",
       "  <thead>\n",
       "    <tr style=\"text-align: right;\">\n",
       "      <th></th>\n",
       "      <th>_id</th>\n",
       "      <th>ltable_Id</th>\n",
       "      <th>rtable_Id</th>\n",
       "      <th>ltable_Name</th>\n",
       "      <th>ltable_Address</th>\n",
       "      <th>ltable_Cuisines</th>\n",
       "      <th>ltable_Saturday Opening time</th>\n",
       "      <th>ltable_Saturday Closing time</th>\n",
       "      <th>ltable_Sunday Opening time</th>\n",
       "      <th>ltable_Sunday Closing time</th>\n",
       "      <th>...</th>\n",
       "      <th>ltable_Street</th>\n",
       "      <th>rtable_Name</th>\n",
       "      <th>rtable_Address</th>\n",
       "      <th>rtable_Cuisines</th>\n",
       "      <th>rtable_Saturday Opening time</th>\n",
       "      <th>rtable_Saturday Closing time</th>\n",
       "      <th>rtable_Sunday Opening time</th>\n",
       "      <th>rtable_Sunday Closing time</th>\n",
       "      <th>rtable_Take Out</th>\n",
       "      <th>rtable_Street</th>\n",
       "    </tr>\n",
       "  </thead>\n",
       "  <tbody>\n",
       "    <tr>\n",
       "      <th>0</th>\n",
       "      <td>0</td>\n",
       "      <td>1308</td>\n",
       "      <td>1183</td>\n",
       "      <td>razza pizza artigianale</td>\n",
       "      <td>275 grove st jersey city, nj 07302-3601</td>\n",
       "      <td>Italian;Pizza;Vegetarian Friendly</td>\n",
       "      <td>05:30 PM</td>\n",
       "      <td>10:30 PM</td>\n",
       "      <td>NaN</td>\n",
       "      <td>NaN</td>\n",
       "      <td>...</td>\n",
       "      <td>275 grove st jersey city, nj 07302-360</td>\n",
       "      <td>razza pizza artigianale</td>\n",
       "      <td>275 grove stjersey city nj 07302</td>\n",
       "      <td>Italian;Salad</td>\n",
       "      <td>05:30 PM</td>\n",
       "      <td>10:00 PM</td>\n",
       "      <td>CLOSED</td>\n",
       "      <td>CLOSED</td>\n",
       "      <td>Yes</td>\n",
       "      <td>275 grove st</td>\n",
       "    </tr>\n",
       "    <tr>\n",
       "      <th>1</th>\n",
       "      <td>1</td>\n",
       "      <td>2076</td>\n",
       "      <td>2436</td>\n",
       "      <td>sandro's</td>\n",
       "      <td>306 e 81st st new york city, ny 10028-3984</td>\n",
       "      <td>Italian</td>\n",
       "      <td>05:00 PM</td>\n",
       "      <td>11:00 PM</td>\n",
       "      <td>04:30 PM</td>\n",
       "      <td>10:00 PM</td>\n",
       "      <td>...</td>\n",
       "      <td>306 e 81st st</td>\n",
       "      <td>antonucci cafe</td>\n",
       "      <td>170 e 81st stnew york ny 10028</td>\n",
       "      <td>Italian</td>\n",
       "      <td>12:00 PM</td>\n",
       "      <td>11:00 PM</td>\n",
       "      <td>12:00 PM</td>\n",
       "      <td>10:00 PM</td>\n",
       "      <td>Yes</td>\n",
       "      <td>170 e 81st st</td>\n",
       "    </tr>\n",
       "    <tr>\n",
       "      <th>2</th>\n",
       "      <td>2</td>\n",
       "      <td>1974</td>\n",
       "      <td>3094</td>\n",
       "      <td>strip house</td>\n",
       "      <td>13 e 12th st new york city, ny 10003-4404</td>\n",
       "      <td>American;Steakhouse;Gluten Free Options</td>\n",
       "      <td>05:00 PM</td>\n",
       "      <td>11:30 PM</td>\n",
       "      <td>05:00 PM</td>\n",
       "      <td>10:00 PM</td>\n",
       "      <td>...</td>\n",
       "      <td>13 e 12th st</td>\n",
       "      <td>strip house speakeasy</td>\n",
       "      <td>11 e 12th stnew york ny 10003</td>\n",
       "      <td>Steakhouses</td>\n",
       "      <td>05:00 PM</td>\n",
       "      <td>11:30 PM</td>\n",
       "      <td>CLOSED</td>\n",
       "      <td>CLOSED</td>\n",
       "      <td>No</td>\n",
       "      <td>11 e 12th st</td>\n",
       "    </tr>\n",
       "    <tr>\n",
       "      <th>3</th>\n",
       "      <td>3</td>\n",
       "      <td>3174</td>\n",
       "      <td>2890</td>\n",
       "      <td>porter house</td>\n",
       "      <td>10 columbus cir ste 4 new york city, ny 10019-1210</td>\n",
       "      <td>American;Steakhouse;Grill</td>\n",
       "      <td>11:30 AM</td>\n",
       "      <td>11:00 PM</td>\n",
       "      <td>11:00 AM</td>\n",
       "      <td>10:00 PM</td>\n",
       "      <td>...</td>\n",
       "      <td>10 columbus cir ste 4</td>\n",
       "      <td>porter house bar and grill</td>\n",
       "      <td>10 columbus cirnew york ny 10019</td>\n",
       "      <td>Steakhouses;American (New);Cocktail Bars</td>\n",
       "      <td>11:30 AM</td>\n",
       "      <td>11:00 PM</td>\n",
       "      <td>11:30 AM</td>\n",
       "      <td>10:00 PM</td>\n",
       "      <td>No</td>\n",
       "      <td>10 columbus cir</td>\n",
       "    </tr>\n",
       "    <tr>\n",
       "      <th>4</th>\n",
       "      <td>4</td>\n",
       "      <td>2322</td>\n",
       "      <td>2861</td>\n",
       "      <td>salon de ning rooftop</td>\n",
       "      <td>700 5th avenue at 55th street new york city, ny 10019</td>\n",
       "      <td>American;Bar</td>\n",
       "      <td>05:00 PM</td>\n",
       "      <td>01:00 AM</td>\n",
       "      <td>05:00 PM</td>\n",
       "      <td>12:00 AM</td>\n",
       "      <td>...</td>\n",
       "      <td>700 5th avenue at 55th street</td>\n",
       "      <td>salon de ning</td>\n",
       "      <td>700 5th avethe peninsula hotelnew york ny 10019</td>\n",
       "      <td>Lounges;Cocktail Bars</td>\n",
       "      <td>05:00 PM</td>\n",
       "      <td>01:00 AM</td>\n",
       "      <td>04:00 PM</td>\n",
       "      <td>12:00 AM</td>\n",
       "      <td>No</td>\n",
       "      <td>700 5th avethe peninsula hotel</td>\n",
       "    </tr>\n",
       "  </tbody>\n",
       "</table>\n",
       "<p>5 rows × 21 columns</p>\n",
       "</div>"
      ],
      "text/plain": [
       "   _id  ltable_Id  rtable_Id              ltable_Name  \\\n",
       "0    0       1308       1183  razza pizza artigianale   \n",
       "1    1       2076       2436                 sandro's   \n",
       "2    2       1974       3094              strip house   \n",
       "3    3       3174       2890             porter house   \n",
       "4    4       2322       2861    salon de ning rooftop   \n",
       "\n",
       "                                          ltable_Address  \\\n",
       "0                275 grove st jersey city, nj 07302-3601   \n",
       "1             306 e 81st st new york city, ny 10028-3984   \n",
       "2              13 e 12th st new york city, ny 10003-4404   \n",
       "3     10 columbus cir ste 4 new york city, ny 10019-1210   \n",
       "4  700 5th avenue at 55th street new york city, ny 10019   \n",
       "\n",
       "                           ltable_Cuisines ltable_Saturday Opening time  \\\n",
       "0        Italian;Pizza;Vegetarian Friendly                     05:30 PM   \n",
       "1                                  Italian                     05:00 PM   \n",
       "2  American;Steakhouse;Gluten Free Options                     05:00 PM   \n",
       "3                American;Steakhouse;Grill                     11:30 AM   \n",
       "4                             American;Bar                     05:00 PM   \n",
       "\n",
       "  ltable_Saturday Closing time ltable_Sunday Opening time  \\\n",
       "0                     10:30 PM                        NaN   \n",
       "1                     11:00 PM                   04:30 PM   \n",
       "2                     11:30 PM                   05:00 PM   \n",
       "3                     11:00 PM                   11:00 AM   \n",
       "4                     01:00 AM                   05:00 PM   \n",
       "\n",
       "  ltable_Sunday Closing time               ...                \\\n",
       "0                        NaN               ...                 \n",
       "1                   10:00 PM               ...                 \n",
       "2                   10:00 PM               ...                 \n",
       "3                   10:00 PM               ...                 \n",
       "4                   12:00 AM               ...                 \n",
       "\n",
       "                            ltable_Street                 rtable_Name  \\\n",
       "0  275 grove st jersey city, nj 07302-360     razza pizza artigianale   \n",
       "1                          306 e 81st st               antonucci cafe   \n",
       "2                           13 e 12th st        strip house speakeasy   \n",
       "3                  10 columbus cir ste 4   porter house bar and grill   \n",
       "4          700 5th avenue at 55th street                salon de ning   \n",
       "\n",
       "                                    rtable_Address  \\\n",
       "0                 275 grove stjersey city nj 07302   \n",
       "1                   170 e 81st stnew york ny 10028   \n",
       "2                    11 e 12th stnew york ny 10003   \n",
       "3                 10 columbus cirnew york ny 10019   \n",
       "4  700 5th avethe peninsula hotelnew york ny 10019   \n",
       "\n",
       "                            rtable_Cuisines rtable_Saturday Opening time  \\\n",
       "0                             Italian;Salad                     05:30 PM   \n",
       "1                                   Italian                     12:00 PM   \n",
       "2                               Steakhouses                     05:00 PM   \n",
       "3  Steakhouses;American (New);Cocktail Bars                     11:30 AM   \n",
       "4                     Lounges;Cocktail Bars                     05:00 PM   \n",
       "\n",
       "  rtable_Saturday Closing time rtable_Sunday Opening time  \\\n",
       "0                     10:00 PM                     CLOSED   \n",
       "1                     11:00 PM                   12:00 PM   \n",
       "2                     11:30 PM                     CLOSED   \n",
       "3                     11:00 PM                   11:30 AM   \n",
       "4                     01:00 AM                   04:00 PM   \n",
       "\n",
       "  rtable_Sunday Closing time rtable_Take Out                   rtable_Street  \n",
       "0                     CLOSED             Yes                    275 grove st  \n",
       "1                   10:00 PM             Yes                   170 e 81st st  \n",
       "2                     CLOSED              No                    11 e 12th st  \n",
       "3                   10:00 PM              No                 10 columbus cir  \n",
       "4                   12:00 AM              No  700 5th avethe peninsula hotel  \n",
       "\n",
       "[5 rows x 21 columns]"
      ]
     },
     "execution_count": 14,
     "metadata": {},
     "output_type": "execute_result"
    }
   ],
   "source": [
    "dbg = em.debug_blocker(F, A, B, output_size=50)\n",
    "dbg.head()"
   ]
  },
  {
   "cell_type": "code",
   "execution_count": 15,
   "metadata": {},
   "outputs": [],
   "source": [
    "F.to_csv(\"F.csv\",index=False)"
   ]
  },
  {
   "cell_type": "markdown",
   "metadata": {},
   "source": [
    "Taking a sample of 600 tuples from the output, and then we label this sample manually."
   ]
  },
  {
   "cell_type": "code",
   "execution_count": 16,
   "metadata": {},
   "outputs": [],
   "source": [
    "S = em.sample_table(F, 600)\n",
    "S.to_csv('Sample.csv',encoding = 'cp1252')"
   ]
  },
  {
   "cell_type": "markdown",
   "metadata": {},
   "source": [
    "## Reading the Labelled Sample##\n",
    "Loading the labeled data table, which is present in a file called 'Labelled_Sample_v2.csv'"
   ]
  },
  {
   "cell_type": "code",
   "execution_count": 17,
   "metadata": {},
   "outputs": [
    {
     "name": "stderr",
     "output_type": "stream",
     "text": [
      "Metadata file is not present in the given path; proceeding to read the csv file.\n"
     ]
    }
   ],
   "source": [
    "L = em.read_csv_metadata(\"Labelled_Sample_v2.csv\", key='_id', encoding = 'cp1252',\\\n",
    "                         ltable=A, rtable=B,fk_ltable='ltable_Id', fk_rtable='rtable_Id')"
   ]
  },
  {
   "cell_type": "markdown",
   "metadata": {},
   "source": [
    "Deleting *Phone* attribute again, because it can help determine matches trivially."
   ]
  },
  {
   "cell_type": "code",
   "execution_count": 18,
   "metadata": {},
   "outputs": [],
   "source": [
    "del L['ltable_Phone']\n",
    "del L['rtable_Phone']"
   ]
  },
  {
   "cell_type": "markdown",
   "metadata": {},
   "source": [
    "## Splitting the Labelled Set##\n",
    "\n",
    "Splitting the labelled set into training and test set, by putting half the tuple pairs in each.<br>\n",
    "The development set is called I<br>\n",
    "The evaluation set is called J"
   ]
  },
  {
   "cell_type": "code",
   "execution_count": 19,
   "metadata": {},
   "outputs": [],
   "source": [
    "IJ = em.split_train_test(L, train_proportion=0.5, random_state=0)\n",
    "I = IJ['train']\n",
    "J = IJ['test']\n",
    "I.to_csv('I.csv',encoding = 'cp1252')\n",
    "J.to_csv('J.csv',encoding = 'cp1252')"
   ]
  },
  {
   "cell_type": "markdown",
   "metadata": {},
   "source": [
    "## Creating ML-matchers##\n",
    "\n",
    "Initiating 6 different classifiers (Decision Tree, Random Forest, SVM, Naive Bayes, Logistic Regression, Linear Regression) and then, cross validating them on I set."
   ]
  },
  {
   "cell_type": "code",
   "execution_count": 20,
   "metadata": {},
   "outputs": [],
   "source": [
    "dt = em.DTMatcher(name='DecisionTree', random_state=0)\n",
    "rf = em.RFMatcher(name='RF', random_state=0)\n",
    "svm = em.SVMMatcher(name='SVM', random_state=0)\n",
    "nb = em.NBMatcher(name ='NaiveBayes')\n",
    "lg = em.LogRegMatcher(name='LogReg', random_state=0)\n",
    "ln = em.LinRegMatcher(name='LinReg')"
   ]
  },
  {
   "cell_type": "markdown",
   "metadata": {},
   "source": [
    "## Selecting Best Matcher ##\n",
    "\n",
    "First, we obtain all the features we could use for matching. Ft is our feature table"
   ]
  },
  {
   "cell_type": "code",
   "execution_count": 21,
   "metadata": {},
   "outputs": [],
   "source": [
    "Ft = em.get_features_for_matching(A, B, validate_inferred_attr_types=False)"
   ]
  },
  {
   "cell_type": "markdown",
   "metadata": {},
   "source": [
    "Use the system to generate feature vectors from set I. This is called set H"
   ]
  },
  {
   "cell_type": "code",
   "execution_count": 22,
   "metadata": {},
   "outputs": [],
   "source": [
    "H = em.extract_feature_vecs(I, \n",
    "                            feature_table=Ft, \n",
    "                            attrs_after='label',\n",
    "                            show_progress=False)"
   ]
  },
  {
   "cell_type": "markdown",
   "metadata": {},
   "source": [
    "Perform matches and display results below (after performing cross-validation)"
   ]
  },
  {
   "cell_type": "code",
   "execution_count": 23,
   "metadata": {},
   "outputs": [],
   "source": [
    "H = em.impute_table(H, \n",
    "                exclude_attrs=['_id', 'ltable_Id', 'rtable_Id', 'label'],\n",
    "                strategy='mean')"
   ]
  },
  {
   "cell_type": "code",
   "execution_count": 24,
   "metadata": {},
   "outputs": [
    {
     "data": {
      "text/html": [
       "<div>\n",
       "<style scoped>\n",
       "    .dataframe tbody tr th:only-of-type {\n",
       "        vertical-align: middle;\n",
       "    }\n",
       "\n",
       "    .dataframe tbody tr th {\n",
       "        vertical-align: top;\n",
       "    }\n",
       "\n",
       "    .dataframe thead th {\n",
       "        text-align: right;\n",
       "    }\n",
       "</style>\n",
       "<table border=\"1\" class=\"dataframe\">\n",
       "  <thead>\n",
       "    <tr style=\"text-align: right;\">\n",
       "      <th></th>\n",
       "      <th>Matcher</th>\n",
       "      <th>Average precision</th>\n",
       "      <th>Average recall</th>\n",
       "      <th>Average f1</th>\n",
       "    </tr>\n",
       "  </thead>\n",
       "  <tbody>\n",
       "    <tr>\n",
       "      <th>0</th>\n",
       "      <td>DecisionTree</td>\n",
       "      <td>0.966252</td>\n",
       "      <td>0.963852</td>\n",
       "      <td>0.964790</td>\n",
       "    </tr>\n",
       "    <tr>\n",
       "      <th>1</th>\n",
       "      <td>RF</td>\n",
       "      <td>0.980505</td>\n",
       "      <td>0.973049</td>\n",
       "      <td>0.976478</td>\n",
       "    </tr>\n",
       "    <tr>\n",
       "      <th>2</th>\n",
       "      <td>SVM</td>\n",
       "      <td>0.817495</td>\n",
       "      <td>0.986258</td>\n",
       "      <td>0.892202</td>\n",
       "    </tr>\n",
       "    <tr>\n",
       "      <th>3</th>\n",
       "      <td>LinReg</td>\n",
       "      <td>0.973183</td>\n",
       "      <td>0.938203</td>\n",
       "      <td>0.955157</td>\n",
       "    </tr>\n",
       "    <tr>\n",
       "      <th>4</th>\n",
       "      <td>LogReg</td>\n",
       "      <td>0.966219</td>\n",
       "      <td>0.964915</td>\n",
       "      <td>0.965403</td>\n",
       "    </tr>\n",
       "    <tr>\n",
       "      <th>5</th>\n",
       "      <td>NaiveBayes</td>\n",
       "      <td>0.974935</td>\n",
       "      <td>0.964915</td>\n",
       "      <td>0.969759</td>\n",
       "    </tr>\n",
       "  </tbody>\n",
       "</table>\n",
       "</div>"
      ],
      "text/plain": [
       "        Matcher  Average precision  Average recall  Average f1\n",
       "0  DecisionTree           0.966252        0.963852    0.964790\n",
       "1            RF           0.980505        0.973049    0.976478\n",
       "2           SVM           0.817495        0.986258    0.892202\n",
       "3        LinReg           0.973183        0.938203    0.955157\n",
       "4        LogReg           0.966219        0.964915    0.965403\n",
       "5    NaiveBayes           0.974935        0.964915    0.969759"
      ]
     },
     "execution_count": 24,
     "metadata": {},
     "output_type": "execute_result"
    }
   ],
   "source": [
    "result = em.select_matcher([dt, rf, svm, ln, lg,nb], table=H, \n",
    "        exclude_attrs=['_id', 'ltable_Id', 'rtable_Id', 'label'],\n",
    "        k=5,\n",
    "        target_attr='label', metric_to_select_matcher='f1', random_state=0)\n",
    "result['cv_stats']"
   ]
  },
  {
   "cell_type": "markdown",
   "metadata": {},
   "source": [
    "Picking Random Forest as it has the highest average F1 score. We are not adding any rule based matchers as the precision,recall and F1 scores are already above the required thresholds."
   ]
  },
  {
   "cell_type": "markdown",
   "metadata": {},
   "source": [
    "## Evaluating Best Matcher##\n",
    "\n",
    "As we picked Random Forest as the best matcher, now we apply it on the evaluation set (set J; defined earlier) to find how well it performs.\n",
    "\n",
    "Create a new Random Forest matcher and train it on set H (feature table obtained from set I):"
   ]
  },
  {
   "cell_type": "code",
   "execution_count": 25,
   "metadata": {},
   "outputs": [],
   "source": [
    "rf = em.RFMatcher(name='RF', random_state=0)"
   ]
  },
  {
   "cell_type": "code",
   "execution_count": 26,
   "metadata": {},
   "outputs": [],
   "source": [
    "rf.fit(table=H, \n",
    "       exclude_attrs=['_id', 'ltable_Id', 'rtable_Id', 'label'], \n",
    "       target_attr='label')"
   ]
  },
  {
   "cell_type": "markdown",
   "metadata": {},
   "source": [
    "Extracting features from set J:"
   ]
  },
  {
   "cell_type": "code",
   "execution_count": 27,
   "metadata": {},
   "outputs": [],
   "source": [
    "Test_Ft = em.extract_feature_vecs(J, feature_table=Ft,\n",
    "                            attrs_after='label', show_progress=False)"
   ]
  },
  {
   "cell_type": "code",
   "execution_count": 28,
   "metadata": {},
   "outputs": [],
   "source": [
    "Test_Ft = Test_Ft.dropna(axis =0,how ='any')\n",
    "Test_Ft.to_csv(\"Test_Ft.csv\",index=False)"
   ]
  },
  {
   "cell_type": "code",
   "execution_count": 29,
   "metadata": {},
   "outputs": [
    {
     "name": "stderr",
     "output_type": "stream",
     "text": [
      "Metadata file is not present in the given path; proceeding to read the csv file.\n"
     ]
    }
   ],
   "source": [
    "Test_Ft = em.read_csv_metadata(\"Test_Ft.csv\", key='_id', encoding = 'cp1252',\\\n",
    "                         ltable=A, rtable=B,fk_ltable='ltable_Id', fk_rtable='rtable_Id')"
   ]
  },
  {
   "cell_type": "markdown",
   "metadata": {},
   "source": [
    "Computing predictions on set J:"
   ]
  },
  {
   "cell_type": "code",
   "execution_count": 30,
   "metadata": {},
   "outputs": [],
   "source": [
    "predictions = rf.predict(table=Test_Ft, exclude_attrs=['_id', 'ltable_Id', 'rtable_Id', 'label'], \n",
    "              append=True, target_attr='predicted', inplace=False, return_probs=True,\n",
    "                        probs_attr='proba')"
   ]
  },
  {
   "cell_type": "code",
   "execution_count": 31,
   "metadata": {},
   "outputs": [
    {
     "data": {
      "text/html": [
       "<div>\n",
       "<style scoped>\n",
       "    .dataframe tbody tr th:only-of-type {\n",
       "        vertical-align: middle;\n",
       "    }\n",
       "\n",
       "    .dataframe tbody tr th {\n",
       "        vertical-align: top;\n",
       "    }\n",
       "\n",
       "    .dataframe thead th {\n",
       "        text-align: right;\n",
       "    }\n",
       "</style>\n",
       "<table border=\"1\" class=\"dataframe\">\n",
       "  <thead>\n",
       "    <tr style=\"text-align: right;\">\n",
       "      <th></th>\n",
       "      <th>_id</th>\n",
       "      <th>ltable_Id</th>\n",
       "      <th>rtable_Id</th>\n",
       "      <th>predicted</th>\n",
       "      <th>proba</th>\n",
       "    </tr>\n",
       "  </thead>\n",
       "  <tbody>\n",
       "    <tr>\n",
       "      <th>0</th>\n",
       "      <td>1164</td>\n",
       "      <td>2882</td>\n",
       "      <td>3032</td>\n",
       "      <td>0</td>\n",
       "      <td>0.1</td>\n",
       "    </tr>\n",
       "    <tr>\n",
       "      <th>1</th>\n",
       "      <td>603</td>\n",
       "      <td>1522</td>\n",
       "      <td>599</td>\n",
       "      <td>1</td>\n",
       "      <td>1.0</td>\n",
       "    </tr>\n",
       "    <tr>\n",
       "      <th>2</th>\n",
       "      <td>1290</td>\n",
       "      <td>3111</td>\n",
       "      <td>1845</td>\n",
       "      <td>1</td>\n",
       "      <td>1.0</td>\n",
       "    </tr>\n",
       "    <tr>\n",
       "      <th>3</th>\n",
       "      <td>540</td>\n",
       "      <td>1350</td>\n",
       "      <td>1949</td>\n",
       "      <td>0</td>\n",
       "      <td>0.0</td>\n",
       "    </tr>\n",
       "    <tr>\n",
       "      <th>4</th>\n",
       "      <td>1554</td>\n",
       "      <td>3724</td>\n",
       "      <td>1508</td>\n",
       "      <td>1</td>\n",
       "      <td>1.0</td>\n",
       "    </tr>\n",
       "  </tbody>\n",
       "</table>\n",
       "</div>"
      ],
      "text/plain": [
       "    _id  ltable_Id  rtable_Id  predicted  proba\n",
       "0  1164       2882       3032          0    0.1\n",
       "1   603       1522        599          1    1.0\n",
       "2  1290       3111       1845          1    1.0\n",
       "3   540       1350       1949          0    0.0\n",
       "4  1554       3724       1508          1    1.0"
      ]
     },
     "execution_count": 31,
     "metadata": {},
     "output_type": "execute_result"
    }
   ],
   "source": [
    "predictions[['_id', 'ltable_Id', 'rtable_Id', 'predicted', 'proba']].head()"
   ]
  },
  {
   "cell_type": "code",
   "execution_count": 32,
   "metadata": {},
   "outputs": [
    {
     "name": "stdout",
     "output_type": "stream",
     "text": [
      "Precision : 97.37% (148/152)\n",
      "Recall : 97.37% (148/152)\n",
      "F1 : 97.37%\n",
      "False positives : 4 (out of 152 positive predictions)\n",
      "False negatives : 4 (out of 67 negative predictions)\n"
     ]
    }
   ],
   "source": [
    "eval_result = em.eval_matches(predictions, 'label', 'predicted')\n",
    "em.print_eval_summary(eval_result)"
   ]
  },
  {
   "cell_type": "markdown",
   "metadata": {},
   "source": [
    "## Evaluating Other Matchers ##\n",
    "\n",
    "Now, we evaluate the performance of other matchers on set J:"
   ]
  },
  {
   "cell_type": "code",
   "execution_count": 33,
   "metadata": {},
   "outputs": [],
   "source": [
    "dt = em.DTMatcher(name='DecisionTree', random_state=0)\n",
    "svm = em.SVMMatcher(name='SVM', random_state=0)\n",
    "lg = em.LogRegMatcher(name='LogReg', random_state=0)\n",
    "ln = em.LinRegMatcher(name='LinReg')\n",
    "nb = em.NBMatcher(name ='NaiveBayes')"
   ]
  },
  {
   "cell_type": "code",
   "execution_count": 34,
   "metadata": {},
   "outputs": [],
   "source": [
    "dt.fit(table=H, \n",
    "       exclude_attrs=['_id', 'ltable_Id', 'rtable_Id', 'label'], \n",
    "       target_attr='label')\n",
    "svm.fit(table=H, \n",
    "       exclude_attrs=['_id', 'ltable_Id', 'rtable_Id', 'label'], \n",
    "       target_attr='label')\n",
    "lg.fit(table=H, \n",
    "       exclude_attrs=['_id', 'ltable_Id', 'rtable_Id', 'label'], \n",
    "       target_attr='label')\n",
    "ln.fit(table=H, \n",
    "       exclude_attrs=['_id', 'ltable_Id', 'rtable_Id', 'label'], \n",
    "       target_attr='label')\n",
    "nb.fit(table=H, \n",
    "       exclude_attrs=['_id', 'ltable_Id', 'rtable_Id', 'label'], \n",
    "       target_attr='label')"
   ]
  },
  {
   "cell_type": "code",
   "execution_count": 35,
   "metadata": {},
   "outputs": [],
   "source": [
    "predictions2 = dt.predict(table=Test_Ft, exclude_attrs=['_id', 'ltable_Id', 'rtable_Id', 'label'], \n",
    "              append=True, target_attr='predicted', inplace=False, return_probs=True,\n",
    "                        probs_attr='proba')\n",
    "predictions3 = svm.predict(table=Test_Ft, exclude_attrs=['_id', 'ltable_Id', 'rtable_Id', 'label'], \n",
    "              append=True, target_attr='predicted', inplace=False)\n",
    "predictions4 = lg.predict(table=Test_Ft, exclude_attrs=['_id', 'ltable_Id', 'rtable_Id', 'label'], \n",
    "              append=True, target_attr='predicted', inplace=False, return_probs=True,\n",
    "                        probs_attr='proba')\n",
    "predictions5 = ln.predict(table=Test_Ft, exclude_attrs=['_id', 'ltable_Id', 'rtable_Id', 'label'], \n",
    "              append=True, target_attr='predicted', inplace=False)\n",
    "predictions6 = nb.predict(table=Test_Ft, exclude_attrs=['_id', 'ltable_Id', 'rtable_Id', 'label'], \n",
    "              append=True, target_attr='predicted', inplace=False, return_probs=True,\n",
    "                        probs_attr='proba')"
   ]
  },
  {
   "cell_type": "markdown",
   "metadata": {},
   "source": [
    "Decision Tree"
   ]
  },
  {
   "cell_type": "code",
   "execution_count": 36,
   "metadata": {},
   "outputs": [
    {
     "name": "stdout",
     "output_type": "stream",
     "text": [
      "Precision : 93.59% (146/156)\n",
      "Recall : 96.05% (146/152)\n",
      "F1 : 94.81%\n",
      "False positives : 10 (out of 156 positive predictions)\n",
      "False negatives : 6 (out of 63 negative predictions)\n"
     ]
    }
   ],
   "source": [
    "eval_result2 = em.eval_matches(predictions2, 'label', 'predicted')\n",
    "em.print_eval_summary(eval_result2)"
   ]
  },
  {
   "cell_type": "markdown",
   "metadata": {},
   "source": [
    "SVM"
   ]
  },
  {
   "cell_type": "code",
   "execution_count": 37,
   "metadata": {},
   "outputs": [
    {
     "name": "stdout",
     "output_type": "stream",
     "text": [
      "Precision : 83.62% (148/177)\n",
      "Recall : 97.37% (148/152)\n",
      "F1 : 89.97%\n",
      "False positives : 29 (out of 177 positive predictions)\n",
      "False negatives : 4 (out of 42 negative predictions)\n"
     ]
    }
   ],
   "source": [
    "eval_result3 = em.eval_matches(predictions3, 'label', 'predicted')\n",
    "em.print_eval_summary(eval_result3)"
   ]
  },
  {
   "cell_type": "markdown",
   "metadata": {},
   "source": [
    "Logistic Regression"
   ]
  },
  {
   "cell_type": "code",
   "execution_count": 38,
   "metadata": {},
   "outputs": [
    {
     "name": "stdout",
     "output_type": "stream",
     "text": [
      "Precision : 95.39% (145/152)\n",
      "Recall : 95.39% (145/152)\n",
      "F1 : 95.39%\n",
      "False positives : 7 (out of 152 positive predictions)\n",
      "False negatives : 7 (out of 67 negative predictions)\n"
     ]
    }
   ],
   "source": [
    "eval_result4 = em.eval_matches(predictions4, 'label', 'predicted')\n",
    "em.print_eval_summary(eval_result4)"
   ]
  },
  {
   "cell_type": "markdown",
   "metadata": {},
   "source": [
    "Linear Regression"
   ]
  },
  {
   "cell_type": "code",
   "execution_count": 39,
   "metadata": {},
   "outputs": [
    {
     "name": "stdout",
     "output_type": "stream",
     "text": [
      "Precision : 95.51% (149/156)\n",
      "Recall : 98.03% (149/152)\n",
      "F1 : 96.75%\n",
      "False positives : 7 (out of 156 positive predictions)\n",
      "False negatives : 3 (out of 63 negative predictions)\n"
     ]
    }
   ],
   "source": [
    "eval_result5 = em.eval_matches(predictions5, 'label', 'predicted')\n",
    "em.print_eval_summary(eval_result5)"
   ]
  },
  {
   "cell_type": "markdown",
   "metadata": {},
   "source": [
    "Naive Bayes"
   ]
  },
  {
   "cell_type": "code",
   "execution_count": 40,
   "metadata": {},
   "outputs": [
    {
     "name": "stdout",
     "output_type": "stream",
     "text": [
      "Precision : 96.73% (148/153)\n",
      "Recall : 97.37% (148/152)\n",
      "F1 : 97.05%\n",
      "False positives : 5 (out of 153 positive predictions)\n",
      "False negatives : 4 (out of 66 negative predictions)\n"
     ]
    }
   ],
   "source": [
    "eval_result6 = em.eval_matches(predictions6, 'label', 'predicted')\n",
    "em.print_eval_summary(eval_result6)"
   ]
  },
  {
   "cell_type": "code",
   "execution_count": null,
   "metadata": {},
   "outputs": [],
   "source": []
  }
 ],
 "metadata": {
  "anaconda-cloud": {},
  "kernelspec": {
   "display_name": "Python 3",
   "language": "python",
   "name": "python3"
  },
  "language_info": {
   "codemirror_mode": {
    "name": "ipython",
    "version": 3
   },
   "file_extension": ".py",
   "mimetype": "text/x-python",
   "name": "python",
   "nbconvert_exporter": "python",
   "pygments_lexer": "ipython3",
   "version": "3.6.4"
  }
 },
 "nbformat": 4,
 "nbformat_minor": 1
}
